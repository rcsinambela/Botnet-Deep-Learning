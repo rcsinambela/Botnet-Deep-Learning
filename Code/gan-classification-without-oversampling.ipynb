{
 "cells": [
  {
   "cell_type": "markdown",
   "metadata": {},
   "source": [
    "# Import Library"
   ]
  },
  {
   "cell_type": "code",
   "execution_count": 1,
   "metadata": {},
   "outputs": [],
   "source": [
    "import os\n",
    "os.environ['TF_CPP_MIN_LOG_LEVEL'] = '2'  # Suppress info and warning messages"
   ]
  },
  {
   "cell_type": "code",
   "execution_count": 2,
   "metadata": {},
   "outputs": [
    {
     "name": "stderr",
     "output_type": "stream",
     "text": [
      "2025-01-14 14:59:40.815010: E external/local_xla/xla/stream_executor/cuda/cuda_fft.cc:477] Unable to register cuFFT factory: Attempting to register factory for plugin cuFFT when one has already been registered\n",
      "WARNING: All log messages before absl::InitializeLog() is called are written to STDERR\n",
      "E0000 00:00:1736841580.825112 1394368 cuda_dnn.cc:8310] Unable to register cuDNN factory: Attempting to register factory for plugin cuDNN when one has already been registered\n",
      "E0000 00:00:1736841580.827930 1394368 cuda_blas.cc:1418] Unable to register cuBLAS factory: Attempting to register factory for plugin cuBLAS when one has already been registered\n"
     ]
    }
   ],
   "source": [
    "import tables\n",
    "import pandas as pd\n",
    "import numpy as np\n",
    "import tensorflow as tf\n",
    "from sklearn.preprocessing import MinMaxScaler, LabelEncoder\n",
    "from sklearn.model_selection import train_test_split\n",
    "from tensorflow.keras.models import (\n",
    "    Sequential,\n",
    "    Model\n",
    ")\n",
    "from tensorflow.keras.layers import (\n",
    "    Dense,\n",
    "    LeakyReLU,\n",
    "    Dropout,\n",
    "    BatchNormalization,\n",
    "    Reshape,\n",
    "    Flatten,\n",
    "    Input, \n",
    "    Embedding, \n",
    "    multiply,\n",
    "    Concatenate\n",
    ")\n",
    "from tensorflow.keras.optimizers import Adam"
   ]
  },
  {
   "cell_type": "markdown",
   "metadata": {},
   "source": [
    "# 1. Preprocessing Dataset"
   ]
  },
  {
   "cell_type": "code",
   "execution_count": 5,
   "metadata": {},
   "outputs": [
    {
     "data": {
      "text/html": [
       "<div>\n",
       "<style scoped>\n",
       "    .dataframe tbody tr th:only-of-type {\n",
       "        vertical-align: middle;\n",
       "    }\n",
       "\n",
       "    .dataframe tbody tr th {\n",
       "        vertical-align: top;\n",
       "    }\n",
       "\n",
       "    .dataframe thead th {\n",
       "        text-align: right;\n",
       "    }\n",
       "</style>\n",
       "<table border=\"1\" class=\"dataframe\">\n",
       "  <thead>\n",
       "    <tr style=\"text-align: right;\">\n",
       "      <th></th>\n",
       "      <th>ts</th>\n",
       "      <th>uid</th>\n",
       "      <th>id.orig_h</th>\n",
       "      <th>id.orig_p</th>\n",
       "      <th>id.resp_h</th>\n",
       "      <th>id.resp_p</th>\n",
       "      <th>proto</th>\n",
       "      <th>service</th>\n",
       "      <th>duration</th>\n",
       "      <th>orig_bytes</th>\n",
       "      <th>...</th>\n",
       "      <th>conn_state</th>\n",
       "      <th>local_orig</th>\n",
       "      <th>local_resp</th>\n",
       "      <th>missed_bytes</th>\n",
       "      <th>history</th>\n",
       "      <th>orig_pkts</th>\n",
       "      <th>orig_ip_bytes</th>\n",
       "      <th>resp_pkts</th>\n",
       "      <th>resp_ip_bytes</th>\n",
       "      <th>label</th>\n",
       "    </tr>\n",
       "  </thead>\n",
       "  <tbody>\n",
       "    <tr>\n",
       "      <th>0</th>\n",
       "      <td>1525879831.045045</td>\n",
       "      <td>C3GBTkINvXNjVGtN5</td>\n",
       "      <td>192.168.100.103</td>\n",
       "      <td>41101.0</td>\n",
       "      <td>111.40.23.49</td>\n",
       "      <td>23.0</td>\n",
       "      <td>tcp</td>\n",
       "      <td>-</td>\n",
       "      <td>-</td>\n",
       "      <td>-</td>\n",
       "      <td>...</td>\n",
       "      <td>S0</td>\n",
       "      <td>-</td>\n",
       "      <td>-</td>\n",
       "      <td>0.0</td>\n",
       "      <td>S</td>\n",
       "      <td>1.0</td>\n",
       "      <td>60.0</td>\n",
       "      <td>0.0</td>\n",
       "      <td>0.0</td>\n",
       "      <td>(empty)   Malicious   PartOfAHorizontalPortScan</td>\n",
       "    </tr>\n",
       "    <tr>\n",
       "      <th>1</th>\n",
       "      <td>1525879832.01624</td>\n",
       "      <td>CDe43c1PtgynajGI6</td>\n",
       "      <td>192.168.100.103</td>\n",
       "      <td>60905.0</td>\n",
       "      <td>131.174.215.147</td>\n",
       "      <td>23.0</td>\n",
       "      <td>tcp</td>\n",
       "      <td>-</td>\n",
       "      <td>2.998796</td>\n",
       "      <td>0</td>\n",
       "      <td>...</td>\n",
       "      <td>S0</td>\n",
       "      <td>-</td>\n",
       "      <td>-</td>\n",
       "      <td>0.0</td>\n",
       "      <td>S</td>\n",
       "      <td>3.0</td>\n",
       "      <td>180.0</td>\n",
       "      <td>0.0</td>\n",
       "      <td>0.0</td>\n",
       "      <td>(empty)   Malicious   PartOfAHorizontalPortScan</td>\n",
       "    </tr>\n",
       "    <tr>\n",
       "      <th>2</th>\n",
       "      <td>1525879832.024985</td>\n",
       "      <td>CJaDcG3MZzvf1YVYI4</td>\n",
       "      <td>192.168.100.103</td>\n",
       "      <td>44301.0</td>\n",
       "      <td>91.42.47.63</td>\n",
       "      <td>23.0</td>\n",
       "      <td>tcp</td>\n",
       "      <td>-</td>\n",
       "      <td>-</td>\n",
       "      <td>-</td>\n",
       "      <td>...</td>\n",
       "      <td>S0</td>\n",
       "      <td>-</td>\n",
       "      <td>-</td>\n",
       "      <td>0.0</td>\n",
       "      <td>S</td>\n",
       "      <td>1.0</td>\n",
       "      <td>60.0</td>\n",
       "      <td>0.0</td>\n",
       "      <td>0.0</td>\n",
       "      <td>(empty)   Malicious   PartOfAHorizontalPortScan</td>\n",
       "    </tr>\n",
       "    <tr>\n",
       "      <th>3</th>\n",
       "      <td>1525879832.044975</td>\n",
       "      <td>CMBrup3BLXivSp4Avc</td>\n",
       "      <td>192.168.100.103</td>\n",
       "      <td>50244.0</td>\n",
       "      <td>120.210.108.200</td>\n",
       "      <td>23.0</td>\n",
       "      <td>tcp</td>\n",
       "      <td>-</td>\n",
       "      <td>-</td>\n",
       "      <td>-</td>\n",
       "      <td>...</td>\n",
       "      <td>S0</td>\n",
       "      <td>-</td>\n",
       "      <td>-</td>\n",
       "      <td>0.0</td>\n",
       "      <td>S</td>\n",
       "      <td>1.0</td>\n",
       "      <td>60.0</td>\n",
       "      <td>0.0</td>\n",
       "      <td>0.0</td>\n",
       "      <td>(empty)   Malicious   PartOfAHorizontalPortScan</td>\n",
       "    </tr>\n",
       "    <tr>\n",
       "      <th>4</th>\n",
       "      <td>1525879833.016171</td>\n",
       "      <td>CfHl9r3XMYtDQRrHnh</td>\n",
       "      <td>192.168.100.103</td>\n",
       "      <td>34243.0</td>\n",
       "      <td>147.7.65.203</td>\n",
       "      <td>49560.0</td>\n",
       "      <td>tcp</td>\n",
       "      <td>-</td>\n",
       "      <td>2.998804</td>\n",
       "      <td>0</td>\n",
       "      <td>...</td>\n",
       "      <td>S0</td>\n",
       "      <td>-</td>\n",
       "      <td>-</td>\n",
       "      <td>0.0</td>\n",
       "      <td>S</td>\n",
       "      <td>3.0</td>\n",
       "      <td>180.0</td>\n",
       "      <td>0.0</td>\n",
       "      <td>0.0</td>\n",
       "      <td>(empty)   Benign   -</td>\n",
       "    </tr>\n",
       "    <tr>\n",
       "      <th>...</th>\n",
       "      <td>...</td>\n",
       "      <td>...</td>\n",
       "      <td>...</td>\n",
       "      <td>...</td>\n",
       "      <td>...</td>\n",
       "      <td>...</td>\n",
       "      <td>...</td>\n",
       "      <td>...</td>\n",
       "      <td>...</td>\n",
       "      <td>...</td>\n",
       "      <td>...</td>\n",
       "      <td>...</td>\n",
       "      <td>...</td>\n",
       "      <td>...</td>\n",
       "      <td>...</td>\n",
       "      <td>...</td>\n",
       "      <td>...</td>\n",
       "      <td>...</td>\n",
       "      <td>...</td>\n",
       "      <td>...</td>\n",
       "      <td>...</td>\n",
       "    </tr>\n",
       "    <tr>\n",
       "      <th>1446625</th>\n",
       "      <td>1562164752.145405</td>\n",
       "      <td>CbiAr234EfpzQInxbg</td>\n",
       "      <td>0.0.0.0</td>\n",
       "      <td>68.0</td>\n",
       "      <td>255.255.255.255</td>\n",
       "      <td>67.0</td>\n",
       "      <td>udp</td>\n",
       "      <td>dhcp</td>\n",
       "      <td>90.034713</td>\n",
       "      <td>3300.0</td>\n",
       "      <td>...</td>\n",
       "      <td>S0</td>\n",
       "      <td>-</td>\n",
       "      <td>-</td>\n",
       "      <td>0.0</td>\n",
       "      <td>D</td>\n",
       "      <td>11.0</td>\n",
       "      <td>3608.0</td>\n",
       "      <td>0.0</td>\n",
       "      <td>0.0</td>\n",
       "      <td>-   benign   -</td>\n",
       "    </tr>\n",
       "    <tr>\n",
       "      <th>1446626</th>\n",
       "      <td>1562164752.076456</td>\n",
       "      <td>CqEhZf1lYmVokqECn3</td>\n",
       "      <td>::</td>\n",
       "      <td>143.0</td>\n",
       "      <td>ff02::16</td>\n",
       "      <td>0.0</td>\n",
       "      <td>icmp</td>\n",
       "      <td>-</td>\n",
       "      <td>90.39997</td>\n",
       "      <td>340.0</td>\n",
       "      <td>...</td>\n",
       "      <td>OTH</td>\n",
       "      <td>-</td>\n",
       "      <td>-</td>\n",
       "      <td>0.0</td>\n",
       "      <td>-</td>\n",
       "      <td>9.0</td>\n",
       "      <td>844.0</td>\n",
       "      <td>0.0</td>\n",
       "      <td>0.0</td>\n",
       "      <td>-   benign   -</td>\n",
       "    </tr>\n",
       "    <tr>\n",
       "      <th>1446627</th>\n",
       "      <td>1562164752.588413</td>\n",
       "      <td>Cr5vKO1CGfMQwFp22c</td>\n",
       "      <td>::</td>\n",
       "      <td>135.0</td>\n",
       "      <td>ff02::1:ffd5:cdf</td>\n",
       "      <td>136.0</td>\n",
       "      <td>icmp</td>\n",
       "      <td>-</td>\n",
       "      <td>89.82403</td>\n",
       "      <td>72.0</td>\n",
       "      <td>...</td>\n",
       "      <td>OTH</td>\n",
       "      <td>-</td>\n",
       "      <td>-</td>\n",
       "      <td>0.0</td>\n",
       "      <td>-</td>\n",
       "      <td>3.0</td>\n",
       "      <td>216.0</td>\n",
       "      <td>0.0</td>\n",
       "      <td>0.0</td>\n",
       "      <td>-   benign   -</td>\n",
       "    </tr>\n",
       "    <tr>\n",
       "      <th>1446628</th>\n",
       "      <td>1562164753.612461</td>\n",
       "      <td>CQ5cJ21U9NUbUWIznd</td>\n",
       "      <td>fe80::5bcc:698e:39d5:cdf</td>\n",
       "      <td>143.0</td>\n",
       "      <td>ff02::16</td>\n",
       "      <td>0.0</td>\n",
       "      <td>icmp</td>\n",
       "      <td>-</td>\n",
       "      <td>45.215915</td>\n",
       "      <td>200.0</td>\n",
       "      <td>...</td>\n",
       "      <td>OTH</td>\n",
       "      <td>-</td>\n",
       "      <td>-</td>\n",
       "      <td>0.0</td>\n",
       "      <td>-</td>\n",
       "      <td>8.0</td>\n",
       "      <td>648.0</td>\n",
       "      <td>0.0</td>\n",
       "      <td>0.0</td>\n",
       "      <td>-   benign   -</td>\n",
       "    </tr>\n",
       "    <tr>\n",
       "      <th>1446629</th>\n",
       "      <td>1562164753.917407</td>\n",
       "      <td>CjD5ve2qwxfFtvd4zl</td>\n",
       "      <td>fe80::5bcc:698e:39d5:cdf</td>\n",
       "      <td>133.0</td>\n",
       "      <td>ff02::2</td>\n",
       "      <td>134.0</td>\n",
       "      <td>icmp</td>\n",
       "      <td>-</td>\n",
       "      <td>44.242223</td>\n",
       "      <td>0.0</td>\n",
       "      <td>...</td>\n",
       "      <td>OTH</td>\n",
       "      <td>-</td>\n",
       "      <td>-</td>\n",
       "      <td>0.0</td>\n",
       "      <td>-</td>\n",
       "      <td>2.0</td>\n",
       "      <td>96.0</td>\n",
       "      <td>0.0</td>\n",
       "      <td>0.0</td>\n",
       "      <td>-   benign   -</td>\n",
       "    </tr>\n",
       "  </tbody>\n",
       "</table>\n",
       "<p>1446630 rows × 21 columns</p>\n",
       "</div>"
      ],
      "text/plain": [
       "                        ts                 uid                 id.orig_h  \\\n",
       "0        1525879831.045045   C3GBTkINvXNjVGtN5           192.168.100.103   \n",
       "1         1525879832.01624   CDe43c1PtgynajGI6           192.168.100.103   \n",
       "2        1525879832.024985  CJaDcG3MZzvf1YVYI4           192.168.100.103   \n",
       "3        1525879832.044975  CMBrup3BLXivSp4Avc           192.168.100.103   \n",
       "4        1525879833.016171  CfHl9r3XMYtDQRrHnh           192.168.100.103   \n",
       "...                    ...                 ...                       ...   \n",
       "1446625  1562164752.145405  CbiAr234EfpzQInxbg                   0.0.0.0   \n",
       "1446626  1562164752.076456  CqEhZf1lYmVokqECn3                        ::   \n",
       "1446627  1562164752.588413  Cr5vKO1CGfMQwFp22c                        ::   \n",
       "1446628  1562164753.612461  CQ5cJ21U9NUbUWIznd  fe80::5bcc:698e:39d5:cdf   \n",
       "1446629  1562164753.917407  CjD5ve2qwxfFtvd4zl  fe80::5bcc:698e:39d5:cdf   \n",
       "\n",
       "         id.orig_p         id.resp_h  id.resp_p proto service   duration  \\\n",
       "0          41101.0      111.40.23.49       23.0   tcp       -          -   \n",
       "1          60905.0   131.174.215.147       23.0   tcp       -   2.998796   \n",
       "2          44301.0       91.42.47.63       23.0   tcp       -          -   \n",
       "3          50244.0   120.210.108.200       23.0   tcp       -          -   \n",
       "4          34243.0      147.7.65.203    49560.0   tcp       -   2.998804   \n",
       "...            ...               ...        ...   ...     ...        ...   \n",
       "1446625       68.0   255.255.255.255       67.0   udp    dhcp  90.034713   \n",
       "1446626      143.0          ff02::16        0.0  icmp       -   90.39997   \n",
       "1446627      135.0  ff02::1:ffd5:cdf      136.0  icmp       -   89.82403   \n",
       "1446628      143.0          ff02::16        0.0  icmp       -  45.215915   \n",
       "1446629      133.0           ff02::2      134.0  icmp       -  44.242223   \n",
       "\n",
       "        orig_bytes  ... conn_state local_orig local_resp missed_bytes  \\\n",
       "0                -  ...         S0          -          -          0.0   \n",
       "1                0  ...         S0          -          -          0.0   \n",
       "2                -  ...         S0          -          -          0.0   \n",
       "3                -  ...         S0          -          -          0.0   \n",
       "4                0  ...         S0          -          -          0.0   \n",
       "...            ...  ...        ...        ...        ...          ...   \n",
       "1446625     3300.0  ...         S0          -          -          0.0   \n",
       "1446626      340.0  ...        OTH          -          -          0.0   \n",
       "1446627       72.0  ...        OTH          -          -          0.0   \n",
       "1446628      200.0  ...        OTH          -          -          0.0   \n",
       "1446629        0.0  ...        OTH          -          -          0.0   \n",
       "\n",
       "         history orig_pkts  orig_ip_bytes  resp_pkts  resp_ip_bytes  \\\n",
       "0              S       1.0           60.0        0.0            0.0   \n",
       "1              S       3.0          180.0        0.0            0.0   \n",
       "2              S       1.0           60.0        0.0            0.0   \n",
       "3              S       1.0           60.0        0.0            0.0   \n",
       "4              S       3.0          180.0        0.0            0.0   \n",
       "...          ...       ...            ...        ...            ...   \n",
       "1446625        D      11.0         3608.0        0.0            0.0   \n",
       "1446626        -       9.0          844.0        0.0            0.0   \n",
       "1446627        -       3.0          216.0        0.0            0.0   \n",
       "1446628        -       8.0          648.0        0.0            0.0   \n",
       "1446629        -       2.0           96.0        0.0            0.0   \n",
       "\n",
       "                                                   label  \n",
       "0        (empty)   Malicious   PartOfAHorizontalPortScan  \n",
       "1        (empty)   Malicious   PartOfAHorizontalPortScan  \n",
       "2        (empty)   Malicious   PartOfAHorizontalPortScan  \n",
       "3        (empty)   Malicious   PartOfAHorizontalPortScan  \n",
       "4                                   (empty)   Benign   -  \n",
       "...                                                  ...  \n",
       "1446625                                   -   benign   -  \n",
       "1446626                                   -   benign   -  \n",
       "1446627                                   -   benign   -  \n",
       "1446628                                   -   benign   -  \n",
       "1446629                                   -   benign   -  \n",
       "\n",
       "[1446630 rows x 21 columns]"
      ]
     },
     "execution_count": 5,
     "metadata": {},
     "output_type": "execute_result"
    }
   ],
   "source": [
    "# iot_data = pd.read_csv('../Dataset/iot23_combinednew.csv')\n",
    "iot_data = pd.read_hdf('../Dataset/iot23_combined.h5')\n",
    "\n",
    "iot_data"
   ]
  },
  {
   "cell_type": "code",
   "execution_count": null,
   "metadata": {},
   "outputs": [],
   "source": [
    "# Menghapus kolom 'Unnamed: 0'\n",
    "iot_data = iot_data.drop(columns=['Unnamed: 0'])\n",
    "\n",
    "iot_data"
   ]
  },
  {
   "cell_type": "code",
   "execution_count": null,
   "metadata": {},
   "outputs": [],
   "source": [
    "# Define a mapping for the new labels\n",
    "label_mapping = {\n",
    "    'PartOfAHorizontalPortScan': 'Scanning',\n",
    "    'DDoS': 'DDoS',\n",
    "    'C&C-Torii': 'Botnet',\n",
    "    'Benign': 'Benign',\n",
    "    'C&C': 'C&C',\n",
    "    'C&C-HeartBeat-FileDownload': 'C&C',\n",
    "    'Attack': 'Attack'\n",
    "}\n",
    "\n",
    "# Apply the mapping to the 'label' column\n",
    "iot_data['label'] = iot_data['label'].map(label_mapping)\n",
    "\n",
    "# Check the unique labels after transformation\n",
    "unique_labels = iot_data['label'].unique()\n",
    "print(\"Labels setelah transformasi:\", unique_labels)"
   ]
  },
  {
   "cell_type": "code",
   "execution_count": null,
   "metadata": {
    "scrolled": true
   },
   "outputs": [],
   "source": [
    "# Menampilkan kolom\n",
    "print(\"Kolom:\", iot_data.columns.tolist())"
   ]
  },
  {
   "cell_type": "code",
   "execution_count": null,
   "metadata": {},
   "outputs": [],
   "source": [
    "# Menampilkan kolom\n",
    "print(iot_data[\"label\"])"
   ]
  },
  {
   "cell_type": "code",
   "execution_count": null,
   "metadata": {},
   "outputs": [],
   "source": [
    "# tampilkan ada label apa aja dari kolom label\n",
    "unique_labels = iot_data[\"label\"].unique()\n",
    "print(unique_labels)"
   ]
  },
  {
   "cell_type": "code",
   "execution_count": null,
   "metadata": {},
   "outputs": [],
   "source": [
    "iot_data.info()"
   ]
  },
  {
   "cell_type": "code",
   "execution_count": null,
   "metadata": {},
   "outputs": [],
   "source": [
    "iot_data.isna().sum()"
   ]
  },
  {
   "cell_type": "code",
   "execution_count": null,
   "metadata": {},
   "outputs": [],
   "source": [
    "# Melihat distribusi missing values di antara label\n",
    "print(iot_data[iot_data[\"duration\"].isna()][\"label\"].value_counts())"
   ]
  },
  {
   "cell_type": "code",
   "execution_count": null,
   "metadata": {},
   "outputs": [],
   "source": [
    "iot_data.nunique()"
   ]
  },
  {
   "cell_type": "code",
   "execution_count": 13,
   "metadata": {},
   "outputs": [],
   "source": [
    "iot_data[[\"duration\", \"orig_bytes\", \"resp_bytes\"]] = iot_data[\n",
    "    [\"duration\", \"orig_bytes\", \"resp_bytes\"]\n",
    "].fillna(0)"
   ]
  },
  {
   "cell_type": "code",
   "execution_count": null,
   "metadata": {
    "scrolled": true
   },
   "outputs": [],
   "source": [
    "iot_data.isna().sum()"
   ]
  },
  {
   "cell_type": "code",
   "execution_count": null,
   "metadata": {
    "scrolled": true
   },
   "outputs": [],
   "source": [
    "iot_data.tail(5)"
   ]
  },
  {
   "cell_type": "code",
   "execution_count": null,
   "metadata": {},
   "outputs": [],
   "source": [
    "import matplotlib.pyplot as plt\n",
    "\n",
    "label_counts = iot_data[\"label\"].value_counts()\n",
    "print(label_counts)\n",
    "\n",
    "# Visualisasi distribusi label\n",
    "plt.figure(figsize=(10, 5))\n",
    "label_counts.plot(kind=\"bar\")\n",
    "plt.title(\"Distribusi Label dalam Dataset IoT\")\n",
    "plt.xlabel(\"Label\")\n",
    "plt.ylabel(\"Jumlah\")\n",
    "plt.show()"
   ]
  },
  {
   "cell_type": "markdown",
   "metadata": {},
   "source": [
    "### Encode Label to Numeric and Normalisasi Fitur"
   ]
  },
  {
   "cell_type": "code",
   "execution_count": 17,
   "metadata": {},
   "outputs": [],
   "source": [
    "label_encoder = LabelEncoder()\n",
    "\n",
    "iot_data['label'] = label_encoder.fit_transform(iot_data['label'])\n",
    "\n",
    "X = iot_data.drop('label', axis=1)\n",
    "y = iot_data['label']"
   ]
  },
  {
   "cell_type": "code",
   "execution_count": null,
   "metadata": {},
   "outputs": [],
   "source": [
    "X"
   ]
  },
  {
   "cell_type": "code",
   "execution_count": null,
   "metadata": {},
   "outputs": [],
   "source": [
    "y"
   ]
  },
  {
   "cell_type": "code",
   "execution_count": null,
   "metadata": {},
   "outputs": [],
   "source": [
    "unique_y = y.unique()\n",
    "print(unique_y)"
   ]
  },
  {
   "cell_type": "code",
   "execution_count": null,
   "metadata": {},
   "outputs": [],
   "source": [
    "label_mapping = {index: label for index, label in enumerate(label_encoder.classes_)}\n",
    "print(label_mapping)"
   ]
  },
  {
   "cell_type": "code",
   "execution_count": 22,
   "metadata": {},
   "outputs": [],
   "source": [
    "scaler = MinMaxScaler()\n",
    "X_scaled = scaler.fit_transform(X)"
   ]
  },
  {
   "cell_type": "code",
   "execution_count": 23,
   "metadata": {},
   "outputs": [],
   "source": [
    "X_train, X_test, y_train, y_test = train_test_split(X_scaled, y, test_size=0.3, random_state=42, stratify=y)"
   ]
  },
  {
   "cell_type": "markdown",
   "metadata": {},
   "source": [
    "# Generator"
   ]
  },
  {
   "cell_type": "code",
   "execution_count": null,
   "metadata": {},
   "outputs": [],
   "source": [
    "print(X_train.shape[1]) # number of features or columns"
   ]
  },
  {
   "cell_type": "code",
   "execution_count": null,
   "metadata": {
    "scrolled": true
   },
   "outputs": [],
   "source": [
    "# Set dimensions based on your dataset\n",
    "input_dim = X_train.shape[1]  # number of features\n",
    "\n",
    "# Define the Generator\n",
    "generator = Sequential([\n",
    "    Dense(64, input_dim=100),  # input is random noise\n",
    "    LeakyReLU(0.2),\n",
    "    BatchNormalization(momentum=0.8),\n",
    "    Dense(128),\n",
    "    LeakyReLU(0.2),\n",
    "    BatchNormalization(momentum=0.8),\n",
    "    Dense(256),\n",
    "    LeakyReLU(0.2),\n",
    "    Dense(input_dim, activation='tanh')  # output matches feature dimension\n",
    "])\n",
    "\n",
    "generator.summary()\n"
   ]
  },
  {
   "cell_type": "markdown",
   "metadata": {},
   "source": [
    "# Discriminator"
   ]
  },
  {
   "cell_type": "code",
   "execution_count": null,
   "metadata": {
    "scrolled": true
   },
   "outputs": [],
   "source": [
    "# Define the Discriminator\n",
    "discriminator = Sequential([\n",
    "    Dense(256, input_dim=input_dim),\n",
    "    LeakyReLU(0.2),\n",
    "    Dropout(0.3),\n",
    "    Dense(128),\n",
    "    LeakyReLU(0.2),\n",
    "    Dropout(0.3),\n",
    "    Dense(1, activation='sigmoid')  # binary output for real/fake\n",
    "])\n",
    "\n",
    "discriminator.compile(optimizer='adam', loss='binary_crossentropy', metrics=['accuracy'])\n",
    "discriminator.summary()\n"
   ]
  },
  {
   "cell_type": "markdown",
   "metadata": {},
   "source": [
    "# Combining Generator and Discriminator (GAN Model)"
   ]
  },
  {
   "cell_type": "code",
   "execution_count": null,
   "metadata": {
    "scrolled": true
   },
   "outputs": [],
   "source": [
    "# Freeze discriminator weights when training the generator\n",
    "discriminator.trainable = False\n",
    "\n",
    "# GAN model\n",
    "gan_input = Input(shape=(100,))\n",
    "generated_data = generator(gan_input)\n",
    "gan_output = discriminator(generated_data)\n",
    "\n",
    "gan = Model(gan_input, gan_output)\n",
    "gan.compile(optimizer=Adam(0.0002, 0.5), loss='binary_crossentropy')\n",
    "gan.summary()\n"
   ]
  },
  {
   "cell_type": "markdown",
   "metadata": {},
   "source": [
    "# Training the GAN"
   ]
  },
  {
   "cell_type": "code",
   "execution_count": 28,
   "metadata": {},
   "outputs": [],
   "source": [
    "epochs = 10000\n",
    "batch_size = 64\n",
    "sample_interval = 1000  # interval to save generated samples for evaluation"
   ]
  },
  {
   "cell_type": "code",
   "execution_count": null,
   "metadata": {},
   "outputs": [],
   "source": [
    "import tensorflow as tf\n",
    "\n",
    "for epoch in range(epochs):\n",
    "    # Train Discriminator\n",
    "    idx = np.random.randint(0, X_train.shape[0], batch_size)\n",
    "    real_data = X_train[idx]\n",
    "    noise = np.random.normal(0, 1, (batch_size, 100))\n",
    "    generated_data = generator.predict(noise)\n",
    "    \n",
    "    # Labels for real and fake data\n",
    "    real_labels = np.ones((batch_size, 1))\n",
    "    fake_labels = np.zeros((batch_size, 1))\n",
    "    \n",
    "    # Train discriminator\n",
    "    d_loss_real = discriminator.train_on_batch(real_data, real_labels)\n",
    "    d_loss_fake = discriminator.train_on_batch(generated_data, fake_labels)\n",
    "    d_loss = 0.5 * np.add(d_loss_real, d_loss_fake)\n",
    "    \n",
    "    # Train Generator (where discriminator's weights are frozen)\n",
    "    noise = np.random.normal(0, 1, (batch_size, 100))\n",
    "    valid_labels = np.ones((batch_size, 1))  # misleading labels for GAN training\n",
    "    g_loss = gan.train_on_batch(noise, valid_labels)\n",
    "    \n",
    "    # Logging the progress\n",
    "    if epoch % sample_interval == 0:\n",
    "        print(f\"{epoch} [D loss: {d_loss[0]}, acc.: {100 * d_loss[1]}] [G loss: {g_loss}]\")\n"
   ]
  },
  {
   "cell_type": "code",
   "execution_count": 30,
   "metadata": {},
   "outputs": [],
   "source": [
    "# Jumlah sampel sintetik yang ingin Anda hasilkan untuk setiap kelas:\n",
    "num_samples = {\n",
    "    0: 8000,  # Attack\n",
    "    1: 3000,  # Benign\n",
    "    2: 8000,  # Botnet\n",
    "    3: 2000,  # C&C\n",
    "    4: 1000,  # DDoS\n",
    "    5: 1000   # Scanning\n",
    "}\n",
    "\n",
    "synthetic_data_list = []\n",
    "synthetic_labels_list = []"
   ]
  },
  {
   "cell_type": "code",
   "execution_count": null,
   "metadata": {
    "scrolled": true
   },
   "outputs": [],
   "source": [
    "print(num_samples.items())\n"
   ]
  },
  {
   "cell_type": "code",
   "execution_count": null,
   "metadata": {},
   "outputs": [],
   "source": [
    "for class_label, n_samples in num_samples.items():\n",
    "    # Membagi n_samples ke dalam beberapa batch untuk memastikan jumlah yang diinginkan\n",
    "    synthetic_data_for_class = []\n",
    "    batch_size = 1000  # Menentukan ukuran batch untuk efisiensi (misalnya 1000 sampel per batch)\n",
    "\n",
    "    for _ in range(n_samples // batch_size):\n",
    "        noise = np.random.normal(0, 1, (batch_size, 100))  # Sesuaikan dengan dimensi noise generator Anda\n",
    "        synthetic_data_batch = generator.predict(noise)\n",
    "        synthetic_data_for_class.append(synthetic_data_batch)\n",
    "\n",
    "    # Jika n_samples bukan kelipatan batch_size, menghasilkan batch tambahan\n",
    "    if n_samples % batch_size != 0:\n",
    "        remaining_samples = n_samples % batch_size\n",
    "        noise = np.random.normal(0, 1, (remaining_samples, 100))\n",
    "        synthetic_data_batch = generator.predict(noise)\n",
    "        synthetic_data_for_class.append(synthetic_data_batch)\n",
    "\n",
    "    # Menggabungkan semua batch untuk kelas saat ini\n",
    "    synthetic_data_for_class = np.vstack(synthetic_data_for_class)\n",
    "    class_labels = np.full(n_samples, class_label)\n",
    "    \n",
    "    # Menyimpan data dan label sintetik untuk kelas saat ini\n",
    "    synthetic_data_list.append(synthetic_data_for_class)\n",
    "    synthetic_labels_list.append(class_labels)\n",
    "\n",
    "# Menggabungkan semua data sintetik dari setiap kelas\n",
    "synthetic_data = np.vstack(synthetic_data_list)\n",
    "synthetic_labels = np.hstack(synthetic_labels_list)\n",
    "\n",
    "# Verifikasi jumlah sampel untuk setiap kelas\n",
    "from collections import Counter\n",
    "print(\"Distribusi sampel sintetik:\", Counter(synthetic_labels))\n",
    "\n",
    "print(\"Shape of synthetic data:\", synthetic_data_for_class.shape)\n"
   ]
  },
  {
   "cell_type": "code",
   "execution_count": null,
   "metadata": {},
   "outputs": [],
   "source": [
    "# Menggabungkan semua data sintetik\n",
    "synthetic_data = np.vstack(synthetic_data_list)\n",
    "synthetic_labels = np.hstack(synthetic_labels_list)\n",
    "                             \n",
    "# Menggabungkan data sintetik dengan data asli\n",
    "X_augmented = np.vstack((X_train, synthetic_data))\n",
    "y_augmented = np.hstack((y_train, synthetic_labels))\n",
    "\n",
    "# Melatih classifier (contoh: RandomForest)\n",
    "from sklearn.ensemble import RandomForestClassifier\n",
    "classifier = RandomForestClassifier()\n",
    "classifier.fit(X_augmented, y_augmented)\n",
    "\n",
    "# Evaluasi pada test set\n",
    "y_pred = classifier.predict(X_test)\n",
    "from sklearn.metrics import accuracy_score\n",
    "print(\"Classifier Accuracy on Test Set:\", accuracy_score(y_test, y_pred))\n"
   ]
  },
  {
   "cell_type": "code",
   "execution_count": null,
   "metadata": {},
   "outputs": [],
   "source": [
    "import matplotlib.pyplot as plt\n",
    "import numpy as np\n",
    "\n",
    "# Plot distribusi kelas pada data sintetik\n",
    "plt.figure(figsize=(10, 5))\n",
    "counts, bins, patches = plt.hist(synthetic_labels, bins=np.arange(len(np.unique(synthetic_labels))+1)-0.5, edgecolor='black', rwidth=0.8)\n",
    "\n",
    "# Menambahkan jumlah kelas di atas setiap batang histogram\n",
    "for i in range(len(counts)):\n",
    "    plt.text(patches[i].get_x() + patches[i].get_width()/2, counts[i], int(counts[i]), \n",
    "             ha='center', va='bottom', fontsize=10)\n",
    "\n",
    "plt.title(\"Distribusi Kelas pada Data Sintetik\")\n",
    "plt.xlabel(\"Kelas\")\n",
    "plt.ylabel(\"Jumlah Sampel\")\n",
    "plt.xticks(np.arange(len(np.unique(synthetic_labels))))\n",
    "plt.show()\n"
   ]
  },
  {
   "cell_type": "code",
   "execution_count": null,
   "metadata": {},
   "outputs": [],
   "source": [
    "# Asumsikan `y_train` adalah label data asli Anda\n",
    "plt.figure(figsize=(10, 5))\n",
    "\n",
    "# Plot distribusi kelas pada data asli\n",
    "plt.hist(y_train, bins=np.arange(len(np.unique(y_train))+1)-0.5, alpha=0.5, label=\"Data Asli\", edgecolor='black', rwidth=0.8)\n",
    "\n",
    "# Plot distribusi kelas pada data sintetik\n",
    "plt.hist(synthetic_labels, bins=np.arange(len(np.unique(synthetic_labels))+1)-0.5, alpha=0.5, label=\"Data Sintetik\", edgecolor='black', rwidth=0.8)\n",
    "\n",
    "plt.title(\"Perbandingan Distribusi Kelas antara Data Asli dan Sintetik\")\n",
    "plt.xlabel(\"Kelas\")\n",
    "plt.ylabel(\"Jumlah Sampel\")\n",
    "plt.xticks(np.arange(len(np.unique(synthetic_labels))))\n",
    "plt.legend()\n",
    "plt.show()\n"
   ]
  },
  {
   "cell_type": "code",
   "execution_count": null,
   "metadata": {},
   "outputs": [],
   "source": [
    "from sklearn.ensemble import RandomForestClassifier\n",
    "\n",
    "# Initialize and train the model\n",
    "# class_weights = {0: 1, 1: 1, 2: 10, 3: 1, 4: 1, 5: 1}\n",
    "classifier = RandomForestClassifier(class_weight='balanced', \n",
    "                                    random_state=42, \n",
    "                                    max_depth=10, \n",
    "                                    min_samples_split=5, \n",
    "                                    min_samples_leaf=2)\n",
    "classifier.fit(X_train, y_train)"
   ]
  },
  {
   "cell_type": "code",
   "execution_count": null,
   "metadata": {},
   "outputs": [],
   "source": [
    "from sklearn.metrics import classification_report, fbeta_score\n",
    "\n",
    "# Predictions\n",
    "y_pred = classifier.predict(X_test)\n",
    "\n",
    "# Classification report for precision, recall, and F1 (macro and weighted)\n",
    "report = classification_report(y_test, y_pred, zero_division=0)\n",
    "print(report)\n"
   ]
  },
  {
   "cell_type": "code",
   "execution_count": null,
   "metadata": {},
   "outputs": [],
   "source": [
    "from sklearn.metrics import precision_recall_curve\n",
    "import matplotlib.pyplot as plt\n",
    "\n",
    "# Precision-Recall curve\n",
    "precision, recall, _ = precision_recall_curve(y_test, y_pred, pos_label=1)  # Gantilah dengan kelas yang lebih relevan\n",
    "plt.plot(recall, precision, marker='.')\n",
    "plt.xlabel('Recall')\n",
    "plt.ylabel('Precision')\n",
    "plt.title('Precision-Recall Curve')\n",
    "plt.show()"
   ]
  },
  {
   "cell_type": "code",
   "execution_count": null,
   "metadata": {},
   "outputs": [],
   "source": [
    "from collections import Counter\n",
    "print(\"Class distribution in y_test:\", Counter(y_test))\n",
    "print(\"Class distribution in y_pred:\", Counter(y_pred))\n"
   ]
  },
  {
   "cell_type": "code",
   "execution_count": null,
   "metadata": {},
   "outputs": [],
   "source": [
    "import xgboost as xgb\n",
    "\n",
    "model = xgb.XGBClassifier(\n",
    "    use_label_encoder=False,  # Menonaktifkan label encoder yang sudah deprecated\n",
    "    eval_metric='mlogloss',   # Menetapkan metric evaluasi untuk klasifikasi multikelas\n",
    "    random_state=42,          # Mengatur seed untuk reprodusibilitas\n",
    "    max_depth=10,             # Contoh pengaturan parameter untuk menghindari overfitting\n",
    "    min_child_weight=1,       # Pengaturan minimum bobot anak\n",
    "    learning_rate=0.1,        # Learning rate\n",
    "    n_estimators=100          # Jumlah estimator (trees)\n",
    ")\n",
    "\n",
    "# Melatih model\n",
    "model.fit(X_train, y_train)\n",
    "\n",
    "# Prediksi menggunakan data uji\n",
    "y_pred = model.predict(X_test)\n",
    "\n",
    "# Evaluasi model dengan akurasi\n",
    "accuracy = accuracy_score(y_test, y_pred)\n",
    "print(f\"Classifier Accuracy on Test Set: {accuracy:.4f}\")\n",
    "\n",
    "# Menampilkan classification report\n",
    "report = classification_report(y_test, y_pred, zero_division=0)\n",
    "print(\"Classification Report:\\n\", report)\n",
    "\n",
    "# Menampilkan distribusi kelas di y_test dan y_pred untuk analisis lebih lanjut\n",
    "print(\"Class distribution in y_test:\", Counter(y_test))\n",
    "print(\"Class distribution in y_pred:\", Counter(y_pred))\n",
    "\n",
    "# Jika ingin visualisasi Precision-Recall Curve untuk satu kelas (misalnya kelas 1)\n",
    "import matplotlib.pyplot as plt\n",
    "from sklearn.metrics import precision_recall_curve\n",
    "\n",
    "precision, recall, _ = precision_recall_curve(y_test, y_pred, pos_label=1)  # Ubah jika perlu untuk kelas lainnya\n",
    "plt.plot(recall, precision, marker='.')\n",
    "plt.xlabel('Recall')\n",
    "plt.ylabel('Precision')\n",
    "plt.title('Precision-Recall Curve')\n",
    "plt.show()\n"
   ]
  },
  {
   "cell_type": "code",
   "execution_count": null,
   "metadata": {},
   "outputs": [],
   "source": [
    "from imblearn.ensemble import BalancedRandomForestClassifier\n",
    "from sklearn.metrics import classification_report, accuracy_score\n",
    "\n",
    "# Membuat model Balanced Random Forest\n",
    "brf_model = BalancedRandomForestClassifier(\n",
    "    n_estimators=100,\n",
    "    random_state=42,\n",
    "    class_weight='balanced_subsample',  # Menyeimbangkan kelas selama pembelajaran\n",
    "    max_depth=10,\n",
    "    min_samples_split=5,\n",
    "    min_samples_leaf=2\n",
    ")\n",
    "\n",
    "# Melatih model\n",
    "brf_model.fit(X_train, y_train)\n",
    "\n",
    "# Evaluasi pada test set\n",
    "y_pred_brf = brf_model.predict(X_test)\n",
    "\n",
    "# Laporan klasifikasi untuk precision, recall, dan F1\n",
    "report_brf = classification_report(y_test, y_pred_brf, zero_division=0)\n",
    "print(\"Classification Report for Balanced Random Forest:\\n\", report_brf)\n",
    "\n",
    "# Akurasi model\n",
    "accuracy_brf = accuracy_score(y_test, y_pred_brf)\n",
    "print(\"Accuracy of Balanced Random Forest on Test Set: \", accuracy_brf)\n"
   ]
  }
 ],
 "metadata": {
  "kernelspec": {
   "display_name": "Python 3",
   "language": "python",
   "name": "python3"
  },
  "language_info": {
   "codemirror_mode": {
    "name": "ipython",
    "version": 3
   },
   "file_extension": ".py",
   "mimetype": "text/x-python",
   "name": "python",
   "nbconvert_exporter": "python",
   "pygments_lexer": "ipython3",
   "version": "3.10.12"
  }
 },
 "nbformat": 4,
 "nbformat_minor": 4
}
